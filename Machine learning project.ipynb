{
 "cells": [
  {
   "cell_type": "markdown",
   "metadata": {},
   "source": [
    "# Predicting houses prices"
   ]
  },
  {
   "cell_type": "code",
   "execution_count": 1,
   "metadata": {},
   "outputs": [],
   "source": [
    "# import the libraries\n",
    "\n",
    "import pandas as pd\n",
    "import matplotlib.pyplot as plt\n",
    "from sklearn.impute import SimpleImputer\n",
    "import numpy as np\n",
    "from sklearn.preprocessing import StandardScaler\n",
    "from sklearn.model_selection import train_test_split\n",
    "from sklearn.linear_model import LinearRegression\n",
    "from sklearn.ensemble import RandomForestRegressor\n",
    "from sklearn.tree import DecisionTreeRegressor\n",
    "from sklearn.metrics import mean_absolute_error \n",
    "from sklearn.metrics import mean_squared_error "
   ]
  },
  {
   "cell_type": "code",
   "execution_count": 2,
   "metadata": {},
   "outputs": [
    {
     "data": {
      "text/html": [
       "<div>\n",
       "<style scoped>\n",
       "    .dataframe tbody tr th:only-of-type {\n",
       "        vertical-align: middle;\n",
       "    }\n",
       "\n",
       "    .dataframe tbody tr th {\n",
       "        vertical-align: top;\n",
       "    }\n",
       "\n",
       "    .dataframe thead th {\n",
       "        text-align: right;\n",
       "    }\n",
       "</style>\n",
       "<table border=\"1\" class=\"dataframe\">\n",
       "  <thead>\n",
       "    <tr style=\"text-align: right;\">\n",
       "      <th></th>\n",
       "      <th>bedrooms</th>\n",
       "      <th>bathrooms</th>\n",
       "      <th>sqft_living</th>\n",
       "      <th>sqft_lot</th>\n",
       "      <th>floors</th>\n",
       "      <th>waterfront</th>\n",
       "      <th>view</th>\n",
       "      <th>condition</th>\n",
       "      <th>grade</th>\n",
       "      <th>sqft_above</th>\n",
       "      <th>sqft_basement</th>\n",
       "      <th>yr_built</th>\n",
       "      <th>yr_renovated</th>\n",
       "      <th>zipcode</th>\n",
       "      <th>lat</th>\n",
       "      <th>long</th>\n",
       "      <th>sqft_living15</th>\n",
       "      <th>price</th>\n",
       "    </tr>\n",
       "  </thead>\n",
       "  <tbody>\n",
       "    <tr>\n",
       "      <th>0</th>\n",
       "      <td>3.0</td>\n",
       "      <td>1.00</td>\n",
       "      <td>1180.0</td>\n",
       "      <td>5650.0</td>\n",
       "      <td>1.0</td>\n",
       "      <td>0.0</td>\n",
       "      <td>0.0</td>\n",
       "      <td>3.0</td>\n",
       "      <td>7.0</td>\n",
       "      <td>1180.0</td>\n",
       "      <td>0.0</td>\n",
       "      <td>1955.0</td>\n",
       "      <td>0.0</td>\n",
       "      <td>98178.0</td>\n",
       "      <td>47.5112</td>\n",
       "      <td>-122.257</td>\n",
       "      <td>1340.0</td>\n",
       "      <td>22.19</td>\n",
       "    </tr>\n",
       "    <tr>\n",
       "      <th>1</th>\n",
       "      <td>3.0</td>\n",
       "      <td>2.25</td>\n",
       "      <td>2570.0</td>\n",
       "      <td>7242.0</td>\n",
       "      <td>2.0</td>\n",
       "      <td>0.0</td>\n",
       "      <td>0.0</td>\n",
       "      <td>3.0</td>\n",
       "      <td>7.0</td>\n",
       "      <td>2170.0</td>\n",
       "      <td>400.0</td>\n",
       "      <td>1951.0</td>\n",
       "      <td>1991.0</td>\n",
       "      <td>98125.0</td>\n",
       "      <td>47.7210</td>\n",
       "      <td>-122.319</td>\n",
       "      <td>1690.0</td>\n",
       "      <td>53.80</td>\n",
       "    </tr>\n",
       "    <tr>\n",
       "      <th>2</th>\n",
       "      <td>2.0</td>\n",
       "      <td>1.00</td>\n",
       "      <td>770.0</td>\n",
       "      <td>10000.0</td>\n",
       "      <td>1.0</td>\n",
       "      <td>0.0</td>\n",
       "      <td>0.0</td>\n",
       "      <td>3.0</td>\n",
       "      <td>6.0</td>\n",
       "      <td>770.0</td>\n",
       "      <td>0.0</td>\n",
       "      <td>1933.0</td>\n",
       "      <td>0.0</td>\n",
       "      <td>98028.0</td>\n",
       "      <td>47.7379</td>\n",
       "      <td>-122.233</td>\n",
       "      <td>2720.0</td>\n",
       "      <td>18.00</td>\n",
       "    </tr>\n",
       "    <tr>\n",
       "      <th>3</th>\n",
       "      <td>4.0</td>\n",
       "      <td>3.00</td>\n",
       "      <td>1960.0</td>\n",
       "      <td>5000.0</td>\n",
       "      <td>1.0</td>\n",
       "      <td>0.0</td>\n",
       "      <td>0.0</td>\n",
       "      <td>5.0</td>\n",
       "      <td>7.0</td>\n",
       "      <td>1050.0</td>\n",
       "      <td>910.0</td>\n",
       "      <td>1965.0</td>\n",
       "      <td>0.0</td>\n",
       "      <td>98136.0</td>\n",
       "      <td>47.5208</td>\n",
       "      <td>-122.393</td>\n",
       "      <td>1360.0</td>\n",
       "      <td>60.40</td>\n",
       "    </tr>\n",
       "    <tr>\n",
       "      <th>4</th>\n",
       "      <td>3.0</td>\n",
       "      <td>2.00</td>\n",
       "      <td>1680.0</td>\n",
       "      <td>8080.0</td>\n",
       "      <td>1.0</td>\n",
       "      <td>0.0</td>\n",
       "      <td>0.0</td>\n",
       "      <td>3.0</td>\n",
       "      <td>8.0</td>\n",
       "      <td>1680.0</td>\n",
       "      <td>0.0</td>\n",
       "      <td>1987.0</td>\n",
       "      <td>0.0</td>\n",
       "      <td>98074.0</td>\n",
       "      <td>47.6168</td>\n",
       "      <td>-122.045</td>\n",
       "      <td>1800.0</td>\n",
       "      <td>51.00</td>\n",
       "    </tr>\n",
       "  </tbody>\n",
       "</table>\n",
       "</div>"
      ],
      "text/plain": [
       "   bedrooms  bathrooms  sqft_living  sqft_lot  floors  waterfront  view  \\\n",
       "0       3.0       1.00       1180.0    5650.0     1.0         0.0   0.0   \n",
       "1       3.0       2.25       2570.0    7242.0     2.0         0.0   0.0   \n",
       "2       2.0       1.00        770.0   10000.0     1.0         0.0   0.0   \n",
       "3       4.0       3.00       1960.0    5000.0     1.0         0.0   0.0   \n",
       "4       3.0       2.00       1680.0    8080.0     1.0         0.0   0.0   \n",
       "\n",
       "   condition  grade  sqft_above  sqft_basement  yr_built  yr_renovated  \\\n",
       "0        3.0    7.0      1180.0            0.0    1955.0           0.0   \n",
       "1        3.0    7.0      2170.0          400.0    1951.0        1991.0   \n",
       "2        3.0    6.0       770.0            0.0    1933.0           0.0   \n",
       "3        5.0    7.0      1050.0          910.0    1965.0           0.0   \n",
       "4        3.0    8.0      1680.0            0.0    1987.0           0.0   \n",
       "\n",
       "   zipcode      lat     long  sqft_living15  price  \n",
       "0  98178.0  47.5112 -122.257         1340.0  22.19  \n",
       "1  98125.0  47.7210 -122.319         1690.0  53.80  \n",
       "2  98028.0  47.7379 -122.233         2720.0  18.00  \n",
       "3  98136.0  47.5208 -122.393         1360.0  60.40  \n",
       "4  98074.0  47.6168 -122.045         1800.0  51.00  "
      ]
     },
     "execution_count": 2,
     "metadata": {},
     "output_type": "execute_result"
    }
   ],
   "source": [
    "#reading the data and showing the head of it\n",
    "dataset = pd.read_csv('houses.csv')\n",
    "dataset.head(5)"
   ]
  },
  {
   "cell_type": "code",
   "execution_count": 5,
   "metadata": {},
   "outputs": [
    {
     "name": "stdout",
     "output_type": "stream",
     "text": [
      "<class 'pandas.core.frame.DataFrame'>\n",
      "RangeIndex: 1000 entries, 0 to 999\n",
      "Data columns (total 18 columns):\n",
      " #   Column         Non-Null Count  Dtype  \n",
      "---  ------         --------------  -----  \n",
      " 0   bedrooms       999 non-null    float64\n",
      " 1   bathrooms      999 non-null    float64\n",
      " 2   sqft_living    999 non-null    float64\n",
      " 3   sqft_lot       999 non-null    float64\n",
      " 4   floors         999 non-null    float64\n",
      " 5   waterfront     999 non-null    float64\n",
      " 6   view           999 non-null    float64\n",
      " 7   condition      999 non-null    float64\n",
      " 8   grade          999 non-null    float64\n",
      " 9   sqft_above     999 non-null    float64\n",
      " 10  sqft_basement  999 non-null    float64\n",
      " 11  yr_built       999 non-null    float64\n",
      " 12  yr_renovated   999 non-null    float64\n",
      " 13  zipcode        999 non-null    float64\n",
      " 14  lat            999 non-null    float64\n",
      " 15  long           999 non-null    float64\n",
      " 16  sqft_living15  999 non-null    float64\n",
      " 17  price          999 non-null    float64\n",
      "dtypes: float64(18)\n",
      "memory usage: 140.8 KB\n"
     ]
    }
   ],
   "source": [
    "\n",
    "dataset.info()"
   ]
  },
  {
   "cell_type": "code",
   "execution_count": 6,
   "metadata": {},
   "outputs": [
    {
     "data": {
      "text/html": [
       "<div>\n",
       "<style scoped>\n",
       "    .dataframe tbody tr th:only-of-type {\n",
       "        vertical-align: middle;\n",
       "    }\n",
       "\n",
       "    .dataframe tbody tr th {\n",
       "        vertical-align: top;\n",
       "    }\n",
       "\n",
       "    .dataframe thead th {\n",
       "        text-align: right;\n",
       "    }\n",
       "</style>\n",
       "<table border=\"1\" class=\"dataframe\">\n",
       "  <thead>\n",
       "    <tr style=\"text-align: right;\">\n",
       "      <th></th>\n",
       "      <th>bedrooms</th>\n",
       "      <th>bathrooms</th>\n",
       "      <th>sqft_living</th>\n",
       "      <th>sqft_lot</th>\n",
       "      <th>floors</th>\n",
       "      <th>waterfront</th>\n",
       "      <th>view</th>\n",
       "      <th>condition</th>\n",
       "      <th>grade</th>\n",
       "      <th>sqft_above</th>\n",
       "      <th>sqft_basement</th>\n",
       "      <th>yr_built</th>\n",
       "      <th>yr_renovated</th>\n",
       "      <th>zipcode</th>\n",
       "      <th>lat</th>\n",
       "      <th>long</th>\n",
       "      <th>sqft_living15</th>\n",
       "      <th>price</th>\n",
       "    </tr>\n",
       "  </thead>\n",
       "  <tbody>\n",
       "    <tr>\n",
       "      <th>count</th>\n",
       "      <td>999.000000</td>\n",
       "      <td>999.000000</td>\n",
       "      <td>999.000000</td>\n",
       "      <td>999.000000</td>\n",
       "      <td>999.000000</td>\n",
       "      <td>999.000000</td>\n",
       "      <td>999.000000</td>\n",
       "      <td>999.000000</td>\n",
       "      <td>999.000000</td>\n",
       "      <td>999.000000</td>\n",
       "      <td>999.000000</td>\n",
       "      <td>999.000000</td>\n",
       "      <td>999.000000</td>\n",
       "      <td>999.000000</td>\n",
       "      <td>999.000000</td>\n",
       "      <td>999.000000</td>\n",
       "      <td>999.000000</td>\n",
       "      <td>999.000000</td>\n",
       "    </tr>\n",
       "    <tr>\n",
       "      <th>mean</th>\n",
       "      <td>3.349349</td>\n",
       "      <td>2.045796</td>\n",
       "      <td>2051.397397</td>\n",
       "      <td>14707.242242</td>\n",
       "      <td>1.446947</td>\n",
       "      <td>0.008008</td>\n",
       "      <td>0.237237</td>\n",
       "      <td>3.464464</td>\n",
       "      <td>7.605606</td>\n",
       "      <td>1750.233233</td>\n",
       "      <td>301.164164</td>\n",
       "      <td>1969.030030</td>\n",
       "      <td>81.830831</td>\n",
       "      <td>98074.441441</td>\n",
       "      <td>47.549720</td>\n",
       "      <td>-122.207406</td>\n",
       "      <td>1986.813814</td>\n",
       "      <td>52.071452</td>\n",
       "    </tr>\n",
       "    <tr>\n",
       "      <th>std</th>\n",
       "      <td>0.852367</td>\n",
       "      <td>0.721983</td>\n",
       "      <td>888.351113</td>\n",
       "      <td>28975.077254</td>\n",
       "      <td>0.517420</td>\n",
       "      <td>0.089173</td>\n",
       "      <td>0.765472</td>\n",
       "      <td>0.689521</td>\n",
       "      <td>1.160734</td>\n",
       "      <td>790.466905</td>\n",
       "      <td>451.023402</td>\n",
       "      <td>28.198607</td>\n",
       "      <td>395.767918</td>\n",
       "      <td>52.545832</td>\n",
       "      <td>0.141558</td>\n",
       "      <td>0.139564</td>\n",
       "      <td>670.723475</td>\n",
       "      <td>33.974907</td>\n",
       "    </tr>\n",
       "    <tr>\n",
       "      <th>min</th>\n",
       "      <td>0.000000</td>\n",
       "      <td>0.000000</td>\n",
       "      <td>380.000000</td>\n",
       "      <td>649.000000</td>\n",
       "      <td>1.000000</td>\n",
       "      <td>0.000000</td>\n",
       "      <td>0.000000</td>\n",
       "      <td>1.000000</td>\n",
       "      <td>4.000000</td>\n",
       "      <td>380.000000</td>\n",
       "      <td>0.000000</td>\n",
       "      <td>1900.000000</td>\n",
       "      <td>0.000000</td>\n",
       "      <td>98001.000000</td>\n",
       "      <td>47.177500</td>\n",
       "      <td>-122.490000</td>\n",
       "      <td>830.000000</td>\n",
       "      <td>8.000000</td>\n",
       "    </tr>\n",
       "    <tr>\n",
       "      <th>25%</th>\n",
       "      <td>3.000000</td>\n",
       "      <td>1.500000</td>\n",
       "      <td>1405.000000</td>\n",
       "      <td>5419.000000</td>\n",
       "      <td>1.000000</td>\n",
       "      <td>0.000000</td>\n",
       "      <td>0.000000</td>\n",
       "      <td>3.000000</td>\n",
       "      <td>7.000000</td>\n",
       "      <td>1190.000000</td>\n",
       "      <td>0.000000</td>\n",
       "      <td>1952.000000</td>\n",
       "      <td>0.000000</td>\n",
       "      <td>98032.000000</td>\n",
       "      <td>47.443000</td>\n",
       "      <td>-122.322500</td>\n",
       "      <td>1490.000000</td>\n",
       "      <td>30.980000</td>\n",
       "    </tr>\n",
       "    <tr>\n",
       "      <th>50%</th>\n",
       "      <td>3.000000</td>\n",
       "      <td>2.000000</td>\n",
       "      <td>1900.000000</td>\n",
       "      <td>8040.000000</td>\n",
       "      <td>1.000000</td>\n",
       "      <td>0.000000</td>\n",
       "      <td>0.000000</td>\n",
       "      <td>3.000000</td>\n",
       "      <td>7.000000</td>\n",
       "      <td>1540.000000</td>\n",
       "      <td>0.000000</td>\n",
       "      <td>1974.000000</td>\n",
       "      <td>0.000000</td>\n",
       "      <td>98058.000000</td>\n",
       "      <td>47.563600</td>\n",
       "      <td>-122.218000</td>\n",
       "      <td>1850.000000</td>\n",
       "      <td>43.500000</td>\n",
       "    </tr>\n",
       "    <tr>\n",
       "      <th>75%</th>\n",
       "      <td>4.000000</td>\n",
       "      <td>2.500000</td>\n",
       "      <td>2475.000000</td>\n",
       "      <td>11508.500000</td>\n",
       "      <td>2.000000</td>\n",
       "      <td>0.000000</td>\n",
       "      <td>0.000000</td>\n",
       "      <td>4.000000</td>\n",
       "      <td>8.000000</td>\n",
       "      <td>2135.000000</td>\n",
       "      <td>580.000000</td>\n",
       "      <td>1992.000000</td>\n",
       "      <td>0.000000</td>\n",
       "      <td>98116.000000</td>\n",
       "      <td>47.673400</td>\n",
       "      <td>-122.118000</td>\n",
       "      <td>2360.000000</td>\n",
       "      <td>63.446250</td>\n",
       "    </tr>\n",
       "    <tr>\n",
       "      <th>max</th>\n",
       "      <td>7.000000</td>\n",
       "      <td>5.000000</td>\n",
       "      <td>6070.000000</td>\n",
       "      <td>315374.000000</td>\n",
       "      <td>3.500000</td>\n",
       "      <td>1.000000</td>\n",
       "      <td>4.000000</td>\n",
       "      <td>5.000000</td>\n",
       "      <td>12.000000</td>\n",
       "      <td>6070.000000</td>\n",
       "      <td>2060.000000</td>\n",
       "      <td>2015.000000</td>\n",
       "      <td>2014.000000</td>\n",
       "      <td>98199.000000</td>\n",
       "      <td>47.777600</td>\n",
       "      <td>-121.709000</td>\n",
       "      <td>4760.000000</td>\n",
       "      <td>308.000000</td>\n",
       "    </tr>\n",
       "  </tbody>\n",
       "</table>\n",
       "</div>"
      ],
      "text/plain": [
       "         bedrooms   bathrooms  sqft_living       sqft_lot      floors  \\\n",
       "count  999.000000  999.000000   999.000000     999.000000  999.000000   \n",
       "mean     3.349349    2.045796  2051.397397   14707.242242    1.446947   \n",
       "std      0.852367    0.721983   888.351113   28975.077254    0.517420   \n",
       "min      0.000000    0.000000   380.000000     649.000000    1.000000   \n",
       "25%      3.000000    1.500000  1405.000000    5419.000000    1.000000   \n",
       "50%      3.000000    2.000000  1900.000000    8040.000000    1.000000   \n",
       "75%      4.000000    2.500000  2475.000000   11508.500000    2.000000   \n",
       "max      7.000000    5.000000  6070.000000  315374.000000    3.500000   \n",
       "\n",
       "       waterfront        view   condition       grade   sqft_above  \\\n",
       "count  999.000000  999.000000  999.000000  999.000000   999.000000   \n",
       "mean     0.008008    0.237237    3.464464    7.605606  1750.233233   \n",
       "std      0.089173    0.765472    0.689521    1.160734   790.466905   \n",
       "min      0.000000    0.000000    1.000000    4.000000   380.000000   \n",
       "25%      0.000000    0.000000    3.000000    7.000000  1190.000000   \n",
       "50%      0.000000    0.000000    3.000000    7.000000  1540.000000   \n",
       "75%      0.000000    0.000000    4.000000    8.000000  2135.000000   \n",
       "max      1.000000    4.000000    5.000000   12.000000  6070.000000   \n",
       "\n",
       "       sqft_basement     yr_built  yr_renovated       zipcode         lat  \\\n",
       "count     999.000000   999.000000    999.000000    999.000000  999.000000   \n",
       "mean      301.164164  1969.030030     81.830831  98074.441441   47.549720   \n",
       "std       451.023402    28.198607    395.767918     52.545832    0.141558   \n",
       "min         0.000000  1900.000000      0.000000  98001.000000   47.177500   \n",
       "25%         0.000000  1952.000000      0.000000  98032.000000   47.443000   \n",
       "50%         0.000000  1974.000000      0.000000  98058.000000   47.563600   \n",
       "75%       580.000000  1992.000000      0.000000  98116.000000   47.673400   \n",
       "max      2060.000000  2015.000000   2014.000000  98199.000000   47.777600   \n",
       "\n",
       "             long  sqft_living15       price  \n",
       "count  999.000000     999.000000  999.000000  \n",
       "mean  -122.207406    1986.813814   52.071452  \n",
       "std      0.139564     670.723475   33.974907  \n",
       "min   -122.490000     830.000000    8.000000  \n",
       "25%   -122.322500    1490.000000   30.980000  \n",
       "50%   -122.218000    1850.000000   43.500000  \n",
       "75%   -122.118000    2360.000000   63.446250  \n",
       "max   -121.709000    4760.000000  308.000000  "
      ]
     },
     "execution_count": 6,
     "metadata": {},
     "output_type": "execute_result"
    }
   ],
   "source": [
    "dataset.describe()"
   ]
  },
  {
   "cell_type": "markdown",
   "metadata": {},
   "source": [
    "### Visualising some features vs the price"
   ]
  },
  {
   "cell_type": "code",
   "execution_count": 7,
   "metadata": {
    "scrolled": true
   },
   "outputs": [
    {
     "data": {
      "text/plain": [
       "Text(0.5, 1.0, 'The effect of the Bedrooms on Price')"
      ]
     },
     "execution_count": 7,
     "metadata": {},
     "output_type": "execute_result"
    },
    {
     "data": {
      "image/png": "[encoded data removed]",
      "text/plain": [
       "<Figure size 432x288 with 1 Axes>"
      ]
     },
     "metadata": {
      "needs_background": "light"
     },
     "output_type": "display_data"
    }
   ],
   "source": [
    "# Visualising bedrooms feature vs price of the house\n",
    "plt.scatter(dataset['bedrooms'], dataset['price'], color = 'red')\n",
    "plt.xlabel(\"Bedrooms\",fontsize=15)\n",
    "plt.ylabel(\"price\",fontsize=15)\n",
    "plt.title(\"The effect of the Bedrooms on Price\",fontsize=15)"
   ]
  },
  {
   "cell_type": "code",
   "execution_count": 8,
   "metadata": {},
   "outputs": [
    {
     "data": {
      "text/plain": [
       "Text(0.5, 1.0, 'The effect of the bathrooms on Price')"
      ]
     },
     "execution_count": 8,
     "metadata": {},
     "output_type": "execute_result"
    },
    {
     "data": {
      "image/png": "[encoded data removed]",
      "text/plain": [
       "<Figure size 432x288 with 1 Axes>"
      ]
     },
     "metadata": {
      "needs_background": "light"
     },
     "output_type": "display_data"
    }
   ],
   "source": [
    "# Visualising bathrooms feature vs price of the house\n",
    "plt.scatter(dataset['bathrooms'], dataset['price'], color = 'red')\n",
    "plt.xlabel(\"bathrooms\",fontsize=15)\n",
    "plt.ylabel(\"price\",fontsize=15)\n",
    "plt.title(\"The effect of the bathrooms on Price\",fontsize=15)"
   ]
  },
  {
   "cell_type": "code",
   "execution_count": 9,
   "metadata": {},
   "outputs": [
    {
     "data": {
      "text/plain": [
       "Text(0.5, 1.0, 'The effect of the floors on the Price')"
      ]
     },
     "execution_count": 9,
     "metadata": {},
     "output_type": "execute_result"
    },
    {
     "data": {
      "image/png": "[encoded data removed]",
      "text/plain": [
       "<Figure size 432x288 with 1 Axes>"
      ]
     },
     "metadata": {
      "needs_background": "light"
     },
     "output_type": "display_data"
    }
   ],
   "source": [
    "# Visualising floors feature vs price of the house\n",
    "plt.scatter(dataset['floors'], dataset['price'], color = 'red')\n",
    "plt.xlabel(\"floors\",fontsize=15)\n",
    "plt.ylabel(\"price\",fontsize=15)\n",
    "plt.title(\"The effect of the floors on the Price\",fontsize=15)"
   ]
  },
  {
   "cell_type": "code",
   "execution_count": 10,
   "metadata": {},
   "outputs": [
    {
     "data": {
      "text/plain": [
       "Text(0.5, 1.0, 'The effect of the view on Price')"
      ]
     },
     "execution_count": 10,
     "metadata": {},
     "output_type": "execute_result"
    },
    {
     "data": {
      "image/png": "[encoded data removed]",
      "text/plain": [
       "<Figure size 432x288 with 1 Axes>"
      ]
     },
     "metadata": {
      "needs_background": "light"
     },
     "output_type": "display_data"
    }
   ],
   "source": [
    "# Visualising view feature vs price of the house\n",
    "plt.scatter(dataset['view'], dataset['price'], color = 'red')\n",
    "plt.xlabel(\"view\",fontsize=15)\n",
    "plt.ylabel(\"price\",fontsize=15)\n",
    "plt.title(\"The effect of the view on Price\",fontsize=15)"
   ]
  },
  {
   "cell_type": "markdown",
   "metadata": {},
   "source": [
    "## Data Preprocessing"
   ]
  },
  {
   "cell_type": "code",
   "execution_count": 11,
   "metadata": {},
   "outputs": [],
   "source": [
    "#cleaning_data\n",
    "imp = SimpleImputer(missing_values=np.nan, strategy='mean')\n",
    "imp = imp.fit(dataset)\n",
    "dataset = imp.transform(dataset)"
   ]
  },
  {
   "cell_type": "code",
   "execution_count": 12,
   "metadata": {},
   "outputs": [
    {
     "name": "stdout",
     "output_type": "stream",
     "text": [
      "X shape is  (1000, 17)\n",
      "========================================================\n",
      "y shape is  (1000,)\n"
     ]
    }
   ],
   "source": [
    "#X Data\n",
    "X = dataset[:, :-1]\n",
    "print('X shape is ' , X.shape)\n",
    "print(\"========================================================\")\n",
    "#y Data\n",
    "y = dataset[:, -1]\n",
    "print('y shape is ' , y.shape)"
   ]
  },
  {
   "cell_type": "code",
   "execution_count": 13,
   "metadata": {},
   "outputs": [],
   "source": [
    "# Data scaling\n",
    "sc = StandardScaler()\n",
    "X = sc.fit_transform(X)"
   ]
  },
  {
   "cell_type": "code",
   "execution_count": 14,
   "metadata": {},
   "outputs": [
    {
     "name": "stdout",
     "output_type": "stream",
     "text": [
      "X_train shape is  (670, 17)\n",
      "X_test shape is  (330, 17)\n",
      "y_train shape is  (670,)\n",
      "y_test shape is  (330,)\n"
     ]
    }
   ],
   "source": [
    "# split data\n",
    "\n",
    "X_train, X_test, y_train, y_test = train_test_split(X, y, test_size=0.33, random_state=44, shuffle =True)\n",
    "\n",
    "#Splitted Data\n",
    "print('X_train shape is ' , X_train.shape)\n",
    "print('X_test shape is ' , X_test.shape)\n",
    "print('y_train shape is ' , y_train.shape)\n",
    "print('y_test shape is ' , y_test.shape)"
   ]
  },
  {
   "cell_type": "markdown",
   "metadata": {},
   "source": [
    "# Apply Algorithms"
   ]
  },
  {
   "cell_type": "markdown",
   "metadata": {},
   "source": [
    "## 1- Linear Regression"
   ]
  },
  {
   "cell_type": "code",
   "execution_count": 15,
   "metadata": {},
   "outputs": [
    {
     "name": "stdout",
     "output_type": "stream",
     "text": [
      "Linear Regression Train Score is :  0.73965061910456\n",
      "Linear Regression Test Score is :  0.6891016972061732\n",
      "Linear Regression Coef is :  [-0.86144511  0.95995387  4.99661757  1.12054807  0.94361876  4.51545792\n",
      "  5.42435376  2.07798081  9.32835792  4.74967232  1.51719844 -7.31083168\n",
      "  3.11261589 -1.85159215  8.01224131 -1.38215303  5.70697305]\n"
     ]
    }
   ],
   "source": [
    "#Applying Linear Regression Model \n",
    "\n",
    "LinearRegressionModel = LinearRegression(fit_intercept=True,copy_X=True,n_jobs=-1)\n",
    "LinearRegressionModel.fit(X_train, y_train)\n",
    "\n",
    "#Calculating Details\n",
    "print('Linear Regression Train Score is : ' , LinearRegressionModel.score(X_train, y_train))\n",
    "print('Linear Regression Test Score is : ' , LinearRegressionModel.score(X_test, y_test))\n",
    "print('Linear Regression Coef is : ' , LinearRegressionModel.coef_)"
   ]
  },
  {
   "cell_type": "code",
   "execution_count": 16,
   "metadata": {},
   "outputs": [
    {
     "name": "stdout",
     "output_type": "stream",
     "text": [
      "Predicted Value for Linear Regression is :  [27.1178214  20.75900918 63.95402179 23.10610326 27.85410782 77.04416126\n",
      " 31.84799472 55.39630035 38.03741001 38.96117618]\n",
      "True values for y :  [17.18  23.    77.5   24.5   27.995 85.66  24.5   50.    45.    51.2  ]\n"
     ]
    }
   ],
   "source": [
    "#Calculating Prediction\n",
    "y_pred1 = LinearRegressionModel.predict(X_test)\n",
    "\n",
    "# compare between predicted and true values\n",
    "print('Predicted Value for Linear Regression is : ' , y_pred1[:10])\n",
    "print('True values for y : ',y_test[:10])"
   ]
  },
  {
   "cell_type": "code",
   "execution_count": 17,
   "metadata": {},
   "outputs": [
    {
     "name": "stdout",
     "output_type": "stream",
     "text": [
      "Mean Absolute Error Value is :  12.517963964957374\n",
      "Mean Squared Error Value is :  378.6272825682071\n"
     ]
    }
   ],
   "source": [
    "#Calculating Mean Absolute Error\n",
    "MAEValue = mean_absolute_error(y_test, y_pred1, multioutput='uniform_average') # it can be raw_values\n",
    "print('Mean Absolute Error Value is : ', MAEValue)\n",
    "\n",
    "#Calculating Mean Squared Error\n",
    "MSEValue = mean_squared_error(y_test, y_pred1, multioutput='uniform_average') # it can be raw_values\n",
    "print('Mean Squared Error Value is : ', MSEValue)"
   ]
  },
  {
   "cell_type": "markdown",
   "metadata": {},
   "source": [
    "## 2- Random Forest"
   ]
  },
  {
   "cell_type": "code",
   "execution_count": 46,
   "metadata": {},
   "outputs": [
    {
     "name": "stdout",
     "output_type": "stream",
     "text": [
      "Random Forest Regressor Train Score is :  0.958230794411781\n",
      "Random Forest Regressor Test Score is :  0.7278827775724337\n",
      "Random Forest Regressor No. of features are :  17\n"
     ]
    }
   ],
   "source": [
    "#Applying Random Forest Regressor Model \n",
    "\n",
    "RandomForestRegressorModel = RandomForestRegressor(n_estimators=100,max_depth=10, random_state=33\n",
    "                                                   ,criterion='absolute_error')\n",
    "RandomForestRegressorModel.fit(X_train, y_train)\n",
    "\n",
    "#Calculating Details\n",
    "print('Random Forest Regressor Train Score is : ' , RandomForestRegressorModel.score(X_train, y_train))\n",
    "print('Random Forest Regressor Test Score is : ' , RandomForestRegressorModel.score(X_test, y_test))\n",
    "print('Random Forest Regressor No. of features are : ' , RandomForestRegressorModel.n_features_in_)\n"
   ]
  },
  {
   "cell_type": "code",
   "execution_count": 47,
   "metadata": {},
   "outputs": [
    {
     "name": "stdout",
     "output_type": "stream",
     "text": [
      "Predicted Value for Random Forest Regressor is :  [29.419033   20.6361375  47.6608485  28.0933705  27.5307495  76.88625\n",
      " 23.8371     45.977199   51.86586952 45.858349  ]\n",
      "True values for y :  [17.18  23.    77.5   24.5   27.995 85.66  24.5   50.    45.    51.2  ]\n"
     ]
    }
   ],
   "source": [
    "#Calculating Prediction\n",
    "y_pred2 = RandomForestRegressorModel.predict(X_test)\n",
    "\n",
    "# compare between predicted and true values\n",
    "print('Predicted Value for Random Forest Regressor is : ' , y_pred2[:10])\n",
    "print('True values for y : ',y_test[:10])"
   ]
  },
  {
   "cell_type": "code",
   "execution_count": 48,
   "metadata": {},
   "outputs": [
    {
     "name": "stdout",
     "output_type": "stream",
     "text": [
      "Mean Absolute Error Value is :  9.274917154152638\n",
      "Mean Squared Error Value is :  331.3977707240274\n"
     ]
    }
   ],
   "source": [
    "#Calculating Mean Absolute Error\n",
    "MAEValue = mean_absolute_error(y_test, y_pred2, multioutput='uniform_average') # it can be raw_values\n",
    "print('Mean Absolute Error Value is : ', MAEValue)\n",
    "\n",
    "#----------------------------------------------------\n",
    "#Calculating Mean Squared Error\n",
    "MSEValue = mean_squared_error(y_test, y_pred2, multioutput='uniform_average') # it can be raw_values\n",
    "print('Mean Squared Error Value is : ', MSEValue)"
   ]
  },
  {
   "cell_type": "markdown",
   "metadata": {},
   "source": [
    "## 3- DecisionTree"
   ]
  },
  {
   "cell_type": "code",
   "execution_count": 21,
   "metadata": {},
   "outputs": [
    {
     "name": "stdout",
     "output_type": "stream",
     "text": [
      "DecisionTreeRegressor Train Score is :  0.8368421696446185\n",
      "DecisionTreeRegressor Test Score is :  0.704661002477043\n"
     ]
    }
   ],
   "source": [
    "#Applying DecisionTreeRegressor Model \n",
    "\n",
    "\n",
    "DecisionTreeRegressorModel = DecisionTreeRegressor(criterion='absolute_error', max_depth=7,\n",
    "                                                   random_state=33,min_samples_leaf=4)\n",
    "DecisionTreeRegressorModel.fit(X_train, y_train)\n",
    "\n",
    "#Calculating Details\n",
    "print('DecisionTreeRegressor Train Score is : ' , DecisionTreeRegressorModel.score(X_train, y_train))\n",
    "print('DecisionTreeRegressor Test Score is : ' , DecisionTreeRegressorModel.score(X_test, y_test))"
   ]
  },
  {
   "cell_type": "code",
   "execution_count": 22,
   "metadata": {},
   "outputs": [
    {
     "name": "stdout",
     "output_type": "stream",
     "text": [
      "Predicted Value for DecisionTreeRegressorModel is :  [23.5    21.4    37.5    27.5    26.8975 82.4    21.4    48.825  53.217\n",
      " 44.45  ]\n",
      "True values for y :  [17.18  23.    77.5   24.5   27.995 85.66  24.5   50.    45.    51.2  ]\n"
     ]
    }
   ],
   "source": [
    "#Calculating Prediction\n",
    "y_pred3 = DecisionTreeRegressorModel.predict(X_test)\n",
    "\n",
    "# compare between predicted and true values\n",
    "print('Predicted Value for DecisionTreeRegressorModel is : ' , y_pred3[:10])\n",
    "print('True values for y : ',y_test[:10])"
   ]
  },
  {
   "cell_type": "code",
   "execution_count": 23,
   "metadata": {},
   "outputs": [
    {
     "name": "stdout",
     "output_type": "stream",
     "text": [
      "Mean Absolute Error Value is :  10.39897\n",
      "Mean Squared Error Value is :  359.6783934285152\n"
     ]
    }
   ],
   "source": [
    "#Calculating Mean Absolute Error\n",
    "MAEValue = mean_absolute_error(y_test, y_pred3, multioutput='uniform_average') # it can be raw_values\n",
    "print('Mean Absolute Error Value is : ', MAEValue)\n",
    "\n",
    "#----------------------------------------------------\n",
    "#Calculating Mean Squared Error\n",
    "MSEValue = mean_squared_error(y_test, y_pred3, multioutput='uniform_average') # it can be raw_values\n",
    "print('Mean Squared Error Value is : ', MSEValue)"
   ]
  }
 ],
 "metadata": {
  "kernelspec": {
   "display_name": "Python 3",
   "language": "python",
   "name": "python3"
  },
  "language_info": {
   "codemirror_mode": {
    "name": "ipython",
    "version": 3
   },
   "file_extension": ".py",
   "mimetype": "text/x-python",
   "name": "python",
   "nbconvert_exporter": "python",
   "pygments_lexer": "ipython3",
   "version": "3.8.3"
  }
 },
 "nbformat": 4,
 "nbformat_minor": 4
}
